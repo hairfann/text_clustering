{
 "cells": [
  {
   "cell_type": "code",
   "execution_count": 3,
   "metadata": {},
   "outputs": [],
   "source": [
    "import pandas as pd\n",
    "import numpy as np\n",
    "import json\n",
    "\n",
    "import random"
   ]
  },
  {
   "cell_type": "markdown",
   "metadata": {},
   "source": [
    "Data Cleaning and Preprocessing"
   ]
  },
  {
   "cell_type": "code",
   "execution_count": 4,
   "metadata": {},
   "outputs": [],
   "source": [
    "with open('vnexpress_news.json') as f:\n",
    "    data = json.load(f)\n",
    "    df = pd.DataFrame(data)"
   ]
  },
  {
   "cell_type": "code",
   "execution_count": 5,
   "metadata": {},
   "outputs": [
    {
     "data": {
      "text/html": [
       "<div>\n",
       "<style scoped>\n",
       "    .dataframe tbody tr th:only-of-type {\n",
       "        vertical-align: middle;\n",
       "    }\n",
       "\n",
       "    .dataframe tbody tr th {\n",
       "        vertical-align: top;\n",
       "    }\n",
       "\n",
       "    .dataframe thead th {\n",
       "        text-align: right;\n",
       "    }\n",
       "</style>\n",
       "<table border=\"1\" class=\"dataframe\">\n",
       "  <thead>\n",
       "    <tr style=\"text-align: right;\">\n",
       "      <th></th>\n",
       "      <th>title</th>\n",
       "      <th>url</th>\n",
       "      <th>content</th>\n",
       "      <th>cluster</th>\n",
       "    </tr>\n",
       "  </thead>\n",
       "  <tbody>\n",
       "    <tr>\n",
       "      <th>0</th>\n",
       "      <td>Khánh thành tượng Trịnh Công Sơn bên dòng sông...</td>\n",
       "      <td>https://vnexpress.net/khanh-thanh-tuong-trinh-...</td>\n",
       "      <td>Kỷ niệm 85 năm ngày sinh nhạc sĩ Trịnh Công Sơ...</td>\n",
       "      <td>3</td>\n",
       "    </tr>\n",
       "    <tr>\n",
       "      <th>1</th>\n",
       "      <td>Cả nước sáp nhập 50 huyện trong năm nay</td>\n",
       "      <td>https://vnexpress.net/ca-nuoc-sap-nhap-50-huye...</td>\n",
       "      <td>Chiều 28/2, tại phiên họp Ban Chỉ đạo thực hiệ...</td>\n",
       "      <td>1</td>\n",
       "    </tr>\n",
       "    <tr>\n",
       "      <th>2</th>\n",
       "      <td>Phó thủ tướng: Khó tăng lương vì bộ máy nặng nề</td>\n",
       "      <td>https://vnexpress.net/pho-thu-tuong-kho-tang-l...</td>\n",
       "      <td>Chủ trì phiên họp Ban chỉ đạo sắp xếp đơn vị h...</td>\n",
       "      <td>3</td>\n",
       "    </tr>\n",
       "    <tr>\n",
       "      <th>3</th>\n",
       "      <td>'Thời tiết những tháng tới sẽ bất thường, ngoà...</td>\n",
       "      <td>https://vnexpress.net/thoi-tiet-nhung-thang-to...</td>\n",
       "      <td>VnExpress phỏng vấn PGS.TS Phạm Thị Thanh Ngà,...</td>\n",
       "      <td>3</td>\n",
       "    </tr>\n",
       "    <tr>\n",
       "      <th>4</th>\n",
       "      <td>Không khí lạnh tăng cường xuống miền Bắc</td>\n",
       "      <td>https://vnexpress.net/khong-khi-lanh-tang-cuon...</td>\n",
       "      <td>Trung tâm Dự báo Khí tượng Thủy văn quốc gia c...</td>\n",
       "      <td>3</td>\n",
       "    </tr>\n",
       "    <tr>\n",
       "      <th>...</th>\n",
       "      <td>...</td>\n",
       "      <td>...</td>\n",
       "      <td>...</td>\n",
       "      <td>...</td>\n",
       "    </tr>\n",
       "    <tr>\n",
       "      <th>2851</th>\n",
       "      <td>Dã tràng xe cát để làm gì?</td>\n",
       "      <td>https://vnexpress.net/da-trang-xe-cat-de-lam-g...</td>\n",
       "      <td>&gt;&gt; Xem đáp án\\nMộc Trà\\n</td>\n",
       "      <td>2</td>\n",
       "    </tr>\n",
       "    <tr>\n",
       "      <th>2852</th>\n",
       "      <td>Dấu vân tay tiết lộ bạn chung thủy hay dễ ngoạ...</td>\n",
       "      <td>https://vnexpress.net/dau-van-tay-tiet-lo-ban-...</td>\n",
       "      <td>&gt;&gt; Xem giải thích\\nMộc Trà (Theo Asiacue)\\n</td>\n",
       "      <td>2</td>\n",
       "    </tr>\n",
       "    <tr>\n",
       "      <th>2853</th>\n",
       "      <td>Tôm đuổi cá tránh xa bạn tình đang mang thai</td>\n",
       "      <td>https://vnexpress.net/tom-duoi-ca-tranh-xa-ban...</td>\n",
       "      <td>Đây đúng là hình ảnh một 'người chồng, người c...</td>\n",
       "      <td>3</td>\n",
       "    </tr>\n",
       "    <tr>\n",
       "      <th>2854</th>\n",
       "      <td>Tôm càng 'khóa môi' chàng ngư dân</td>\n",
       "      <td>https://vnexpress.net/tom-cang-khoa-moi-chang-...</td>\n",
       "      <td>Đây là hậu quả của việc thích khoe mẽ các anh ...</td>\n",
       "      <td>3</td>\n",
       "    </tr>\n",
       "    <tr>\n",
       "      <th>2855</th>\n",
       "      <td>Lợn con đại chiến tranh chức lão đại tương lai</td>\n",
       "      <td>https://vnexpress.net/lon-con-dai-chien-tranh-...</td>\n",
       "      <td>Lão trư con khi giao chiến nhìn cũng hoành trá...</td>\n",
       "      <td>3</td>\n",
       "    </tr>\n",
       "  </tbody>\n",
       "</table>\n",
       "<p>2856 rows × 4 columns</p>\n",
       "</div>"
      ],
      "text/plain": [
       "                                                  title  \\\n",
       "0     Khánh thành tượng Trịnh Công Sơn bên dòng sông...   \n",
       "1               Cả nước sáp nhập 50 huyện trong năm nay   \n",
       "2       Phó thủ tướng: Khó tăng lương vì bộ máy nặng nề   \n",
       "3     'Thời tiết những tháng tới sẽ bất thường, ngoà...   \n",
       "4              Không khí lạnh tăng cường xuống miền Bắc   \n",
       "...                                                 ...   \n",
       "2851                         Dã tràng xe cát để làm gì?   \n",
       "2852  Dấu vân tay tiết lộ bạn chung thủy hay dễ ngoạ...   \n",
       "2853       Tôm đuổi cá tránh xa bạn tình đang mang thai   \n",
       "2854                  Tôm càng 'khóa môi' chàng ngư dân   \n",
       "2855     Lợn con đại chiến tranh chức lão đại tương lai   \n",
       "\n",
       "                                                    url  \\\n",
       "0     https://vnexpress.net/khanh-thanh-tuong-trinh-...   \n",
       "1     https://vnexpress.net/ca-nuoc-sap-nhap-50-huye...   \n",
       "2     https://vnexpress.net/pho-thu-tuong-kho-tang-l...   \n",
       "3     https://vnexpress.net/thoi-tiet-nhung-thang-to...   \n",
       "4     https://vnexpress.net/khong-khi-lanh-tang-cuon...   \n",
       "...                                                 ...   \n",
       "2851  https://vnexpress.net/da-trang-xe-cat-de-lam-g...   \n",
       "2852  https://vnexpress.net/dau-van-tay-tiet-lo-ban-...   \n",
       "2853  https://vnexpress.net/tom-duoi-ca-tranh-xa-ban...   \n",
       "2854  https://vnexpress.net/tom-cang-khoa-moi-chang-...   \n",
       "2855  https://vnexpress.net/lon-con-dai-chien-tranh-...   \n",
       "\n",
       "                                                content  cluster  \n",
       "0     Kỷ niệm 85 năm ngày sinh nhạc sĩ Trịnh Công Sơ...        3  \n",
       "1     Chiều 28/2, tại phiên họp Ban Chỉ đạo thực hiệ...        1  \n",
       "2     Chủ trì phiên họp Ban chỉ đạo sắp xếp đơn vị h...        3  \n",
       "3     VnExpress phỏng vấn PGS.TS Phạm Thị Thanh Ngà,...        3  \n",
       "4     Trung tâm Dự báo Khí tượng Thủy văn quốc gia c...        3  \n",
       "...                                                 ...      ...  \n",
       "2851                           >> Xem đáp án\\nMộc Trà\\n        2  \n",
       "2852        >> Xem giải thích\\nMộc Trà (Theo Asiacue)\\n        2  \n",
       "2853  Đây đúng là hình ảnh một 'người chồng, người c...        3  \n",
       "2854  Đây là hậu quả của việc thích khoe mẽ các anh ...        3  \n",
       "2855  Lão trư con khi giao chiến nhìn cũng hoành trá...        3  \n",
       "\n",
       "[2856 rows x 4 columns]"
      ]
     },
     "execution_count": 5,
     "metadata": {},
     "output_type": "execute_result"
    }
   ],
   "source": [
    "df = df[df[\"content\"] != \"Error\"]\n",
    "df = df[df[\"content\"] != \"\"]\n",
    "df"
   ]
  },
  {
   "cell_type": "code",
   "execution_count": 6,
   "metadata": {},
   "outputs": [],
   "source": [
    "news_url = df['url'].tolist()\n",
    "news_title = df['title'].tolist()\n",
    "content = df['content'].tolist()"
   ]
  },
  {
   "cell_type": "markdown",
   "metadata": {},
   "source": [
    "TF-IDF (Term Frequency-Inverse Document Frequency) Vectorizer is a popular technique in Natural Language Processing (NLP) used to convert a collection of raw text documents into a numerical format that can be fed into machine learning models. Here's a summary of its functionality:\n",
    "\n",
    "    Term Frequency (TF):\n",
    "    Measures the frequency of a term (word) within a document. It indicates how often a word appears in a document relative to the total number of words in that document. Calculated as the number of occurrences of a term in a document divided by the total number of terms in that document.\n",
    "\n",
    "    Inverse Document Frequency (IDF):\n",
    "    Measures the importance of a term across a collection of documents. Words that occur frequently across many documents receive lower IDF scores, while those that are rare or unique receive higher scores. Calculated as the logarithm of the total number of documents divided by the number of documents containing the term.\n",
    "\n",
    "    TF-IDF Calculation:\n",
    "    Combines TF and IDF to assign a weight to each term in a document relative to its importance in the entire collection of documents. The TF-IDF score for a term in a document is calculated by multiplying its TF and IDF scores.\n",
    "\n",
    "    Vectorization:\n",
    "    Represents each document as a vector in a high-dimensional space, where each dimension corresponds to a unique term in the entire corpus. The vector contains TF-IDF scores for each term in the document. The result is a numerical representation that captures the importance of words in each document relative to the entire corpus."
   ]
  },
  {
   "cell_type": "code",
   "execution_count": 7,
   "metadata": {},
   "outputs": [],
   "source": [
    "from sklearn.feature_extraction.text import TfidfVectorizer\n",
    "\n",
    "def get_tfidf_vector(corpus):\n",
    "    vectorizer = TfidfVectorizer()\n",
    "    X = vectorizer.fit_transform(corpus)\n",
    "    return X.toarray(), vectorizer.get_feature_names_out()\n",
    "\n"
   ]
  },
  {
   "cell_type": "code",
   "execution_count": 8,
   "metadata": {},
   "outputs": [],
   "source": [
    "# Rank features based on their popularity\n",
    "def rank_features(X, feature_names):\n",
    "    feature_scores = np.sum(X, axis=0)\n",
    "    return sorted(zip(feature_names, feature_scores), key=lambda x: x[1], reverse=True)"
   ]
  },
  {
   "cell_type": "code",
   "execution_count": 9,
   "metadata": {},
   "outputs": [
    {
     "name": "stdout",
     "output_type": "stream",
     "text": [
      "[[0.         0.         0.         ... 0.         0.         0.        ]\n",
      " [0.         0.07640489 0.         ... 0.         0.         0.        ]\n",
      " [0.         0.07720347 0.         ... 0.         0.03281058 0.        ]\n",
      " ...\n",
      " [0.         0.         0.         ... 0.         0.         0.        ]\n",
      " [0.         0.         0.         ... 0.         0.         0.        ]\n",
      " [0.         0.         0.         ... 0.         0.         0.        ]] 16216\n"
     ]
    }
   ],
   "source": [
    "X, feature_names = get_tfidf_vector(content)\n",
    "print(X, len(feature_names))"
   ]
  },
  {
   "cell_type": "markdown",
   "metadata": {},
   "source": [
    "Each document is represented as a vector of TF-IDF scores, and the entire collection of documents is represented as a matrix where each row corresponds to a document and each column corresponds to a unique term in the entire corpus. This matrix can then be used as input to machine learning models for tasks such as classification, clustering, and information retrieval. In this case study, we'll use the TF-IDF Vectorizer to convert a collection of raw text documents into a matrix of TF-IDF features, and then use the resulting matrix as input for K-Means clustering to group similar documents together."
   ]
  },
  {
   "cell_type": "code",
   "execution_count": 10,
   "metadata": {},
   "outputs": [
    {
     "name": "stderr",
     "output_type": "stream",
     "text": [
      "c:\\ProgramData\\miniconda3\\Lib\\site-packages\\sklearn\\cluster\\_kmeans.py:870: FutureWarning: The default value of `n_init` will change from 10 to 'auto' in 1.4. Set the value of `n_init` explicitly to suppress the warning\n",
      "  warnings.warn(\n"
     ]
    },
    {
     "data": {
      "text/plain": [
       "<matplotlib.collections.PathCollection at 0x23529fd3f90>"
      ]
     },
     "execution_count": 10,
     "metadata": {},
     "output_type": "execute_result"
    },
    {
     "data": {
      "image/png": "[encoded data removed]",
      "text/plain": [
       "<Figure size 640x480 with 1 Axes>"
      ]
     },
     "metadata": {},
     "output_type": "display_data"
    }
   ],
   "source": [
    "# apply Kmeans clustering to the tfidf matrix\n",
    "from sklearn.cluster import KMeans\n",
    "kmeans = KMeans(n_clusters=10, random_state=0).fit(X)\n",
    "\n",
    "# Plot the clusters\n",
    "import matplotlib.pyplot as plt\n",
    "\n",
    "plt.scatter(X[:, 0], X[:, 1], c=kmeans.labels_, s=50, cmap='viridis')"
   ]
  },
  {
   "cell_type": "markdown",
   "metadata": {},
   "source": [
    "The plot above shows the distribution of news content, but this is not clear enough to understand its disparity. In this case, we will further implement PCA to get a more explanatory plot."
   ]
  },
  {
   "cell_type": "code",
   "execution_count": 11,
   "metadata": {},
   "outputs": [
    {
     "name": "stderr",
     "output_type": "stream",
     "text": [
      "c:\\ProgramData\\miniconda3\\Lib\\site-packages\\sklearn\\cluster\\_kmeans.py:870: FutureWarning: The default value of `n_init` will change from 10 to 'auto' in 1.4. Set the value of `n_init` explicitly to suppress the warning\n",
      "  warnings.warn(\n"
     ]
    },
    {
     "data": {
      "text/plain": [
       "<matplotlib.collections.PathCollection at 0x2352d3ff0d0>"
      ]
     },
     "execution_count": 11,
     "metadata": {},
     "output_type": "execute_result"
    },
    {
     "data": {
      "image/png": "[encoded data removed]",
      "text/plain": [
       "<Figure size 640x480 with 1 Axes>"
      ]
     },
     "metadata": {},
     "output_type": "display_data"
    }
   ],
   "source": [
    "# Plot the clusters\n",
    "import matplotlib.pyplot as plt\n",
    "from sklearn.decomposition import PCA\n",
    "\n",
    "\n",
    "pca = PCA(n_components=2)\n",
    "X_pca = pca.fit_transform(X)\n",
    "\n",
    "kmeans_pca = KMeans(n_clusters=10, random_state=0).fit(X_pca)\n",
    "\n",
    "\n",
    "plt.scatter(X_pca[:, 0], X_pca[:, 1], c=kmeans_pca.labels_, s=50, cmap='viridis')"
   ]
  },
  {
   "cell_type": "markdown",
   "metadata": {},
   "source": [
    "Save the data with the group of clusters:"
   ]
  },
  {
   "cell_type": "code",
   "execution_count": 17,
   "metadata": {},
   "outputs": [
    {
     "data": {
      "text/html": [
       "<div>\n",
       "<style scoped>\n",
       "    .dataframe tbody tr th:only-of-type {\n",
       "        vertical-align: middle;\n",
       "    }\n",
       "\n",
       "    .dataframe tbody tr th {\n",
       "        vertical-align: top;\n",
       "    }\n",
       "\n",
       "    .dataframe thead th {\n",
       "        text-align: right;\n",
       "    }\n",
       "</style>\n",
       "<table border=\"1\" class=\"dataframe\">\n",
       "  <thead>\n",
       "    <tr style=\"text-align: right;\">\n",
       "      <th></th>\n",
       "      <th>title</th>\n",
       "      <th>url</th>\n",
       "      <th>content</th>\n",
       "      <th>cluster</th>\n",
       "      <th>cluster_pca</th>\n",
       "    </tr>\n",
       "  </thead>\n",
       "  <tbody>\n",
       "    <tr>\n",
       "      <th>0</th>\n",
       "      <td>Khánh thành tượng Trịnh Công Sơn bên dòng sông...</td>\n",
       "      <td>https://vnexpress.net/khanh-thanh-tuong-trinh-...</td>\n",
       "      <td>Kỷ niệm 85 năm ngày sinh nhạc sĩ Trịnh Công Sơ...</td>\n",
       "      <td>9</td>\n",
       "      <td>1</td>\n",
       "    </tr>\n",
       "    <tr>\n",
       "      <th>1</th>\n",
       "      <td>Cả nước sáp nhập 50 huyện trong năm nay</td>\n",
       "      <td>https://vnexpress.net/ca-nuoc-sap-nhap-50-huye...</td>\n",
       "      <td>Chiều 28/2, tại phiên họp Ban Chỉ đạo thực hiệ...</td>\n",
       "      <td>3</td>\n",
       "      <td>1</td>\n",
       "    </tr>\n",
       "    <tr>\n",
       "      <th>2</th>\n",
       "      <td>Phó thủ tướng: Khó tăng lương vì bộ máy nặng nề</td>\n",
       "      <td>https://vnexpress.net/pho-thu-tuong-kho-tang-l...</td>\n",
       "      <td>Chủ trì phiên họp Ban chỉ đạo sắp xếp đơn vị h...</td>\n",
       "      <td>3</td>\n",
       "      <td>1</td>\n",
       "    </tr>\n",
       "    <tr>\n",
       "      <th>3</th>\n",
       "      <td>'Thời tiết những tháng tới sẽ bất thường, ngoà...</td>\n",
       "      <td>https://vnexpress.net/thoi-tiet-nhung-thang-to...</td>\n",
       "      <td>VnExpress phỏng vấn PGS.TS Phạm Thị Thanh Ngà,...</td>\n",
       "      <td>9</td>\n",
       "      <td>1</td>\n",
       "    </tr>\n",
       "    <tr>\n",
       "      <th>4</th>\n",
       "      <td>Không khí lạnh tăng cường xuống miền Bắc</td>\n",
       "      <td>https://vnexpress.net/khong-khi-lanh-tang-cuon...</td>\n",
       "      <td>Trung tâm Dự báo Khí tượng Thủy văn quốc gia c...</td>\n",
       "      <td>9</td>\n",
       "      <td>5</td>\n",
       "    </tr>\n",
       "    <tr>\n",
       "      <th>...</th>\n",
       "      <td>...</td>\n",
       "      <td>...</td>\n",
       "      <td>...</td>\n",
       "      <td>...</td>\n",
       "      <td>...</td>\n",
       "    </tr>\n",
       "    <tr>\n",
       "      <th>95</th>\n",
       "      <td>CSGT tăng cường xử phạt tài xế vượt ẩu trên ca...</td>\n",
       "      <td>https://vnexpress.net/csgt-tang-cuong-xu-phat-...</td>\n",
       "      <td>Ngày 21/2, thiếu tá Dương Xuân Đạt, Phó đội tr...</td>\n",
       "      <td>1</td>\n",
       "      <td>6</td>\n",
       "    </tr>\n",
       "    <tr>\n",
       "      <th>96</th>\n",
       "      <td>Hơn 50 công nhân nhập viện</td>\n",
       "      <td>https://vnexpress.net/hon-50-cong-nhan-nhap-vi...</td>\n",
       "      <td>Khoảng 9h30, sau khi hàng chục công nhân có bi...</td>\n",
       "      <td>9</td>\n",
       "      <td>1</td>\n",
       "    </tr>\n",
       "    <tr>\n",
       "      <th>97</th>\n",
       "      <td>Không khí lạnh tràn xuống miền Bắc từ tối mai</td>\n",
       "      <td>https://vnexpress.net/khong-khi-lanh-tran-xuon...</td>\n",
       "      <td>Trung tâm Dự báo Khí tượng Thủy văn quốc gia c...</td>\n",
       "      <td>9</td>\n",
       "      <td>5</td>\n",
       "    </tr>\n",
       "    <tr>\n",
       "      <th>98</th>\n",
       "      <td>Bộ Công an: Duy trì nồng độ cồn bằng 0 với lái...</td>\n",
       "      <td>https://vnexpress.net/bo-cong-an-duy-tri-nong-...</td>\n",
       "      <td>Trong văn bản tham gia giải trình một số nội d...</td>\n",
       "      <td>1</td>\n",
       "      <td>7</td>\n",
       "    </tr>\n",
       "    <tr>\n",
       "      <th>99</th>\n",
       "      <td>Tàu cao tốc Vũng Tàu - Côn Đảo chạy lại từ 2/3</td>\n",
       "      <td>https://vnexpress.net/tau-cao-toc-vung-tau-con...</td>\n",
       "      <td>Thông tin được ông Vũ Văn Khương, Giám đốc Côn...</td>\n",
       "      <td>9</td>\n",
       "      <td>1</td>\n",
       "    </tr>\n",
       "  </tbody>\n",
       "</table>\n",
       "<p>100 rows × 5 columns</p>\n",
       "</div>"
      ],
      "text/plain": [
       "                                                title  \\\n",
       "0   Khánh thành tượng Trịnh Công Sơn bên dòng sông...   \n",
       "1             Cả nước sáp nhập 50 huyện trong năm nay   \n",
       "2     Phó thủ tướng: Khó tăng lương vì bộ máy nặng nề   \n",
       "3   'Thời tiết những tháng tới sẽ bất thường, ngoà...   \n",
       "4            Không khí lạnh tăng cường xuống miền Bắc   \n",
       "..                                                ...   \n",
       "95  CSGT tăng cường xử phạt tài xế vượt ẩu trên ca...   \n",
       "96                         Hơn 50 công nhân nhập viện   \n",
       "97      Không khí lạnh tràn xuống miền Bắc từ tối mai   \n",
       "98  Bộ Công an: Duy trì nồng độ cồn bằng 0 với lái...   \n",
       "99     Tàu cao tốc Vũng Tàu - Côn Đảo chạy lại từ 2/3   \n",
       "\n",
       "                                                  url  \\\n",
       "0   https://vnexpress.net/khanh-thanh-tuong-trinh-...   \n",
       "1   https://vnexpress.net/ca-nuoc-sap-nhap-50-huye...   \n",
       "2   https://vnexpress.net/pho-thu-tuong-kho-tang-l...   \n",
       "3   https://vnexpress.net/thoi-tiet-nhung-thang-to...   \n",
       "4   https://vnexpress.net/khong-khi-lanh-tang-cuon...   \n",
       "..                                                ...   \n",
       "95  https://vnexpress.net/csgt-tang-cuong-xu-phat-...   \n",
       "96  https://vnexpress.net/hon-50-cong-nhan-nhap-vi...   \n",
       "97  https://vnexpress.net/khong-khi-lanh-tran-xuon...   \n",
       "98  https://vnexpress.net/bo-cong-an-duy-tri-nong-...   \n",
       "99  https://vnexpress.net/tau-cao-toc-vung-tau-con...   \n",
       "\n",
       "                                              content  cluster  cluster_pca  \n",
       "0   Kỷ niệm 85 năm ngày sinh nhạc sĩ Trịnh Công Sơ...        9            1  \n",
       "1   Chiều 28/2, tại phiên họp Ban Chỉ đạo thực hiệ...        3            1  \n",
       "2   Chủ trì phiên họp Ban chỉ đạo sắp xếp đơn vị h...        3            1  \n",
       "3   VnExpress phỏng vấn PGS.TS Phạm Thị Thanh Ngà,...        9            1  \n",
       "4   Trung tâm Dự báo Khí tượng Thủy văn quốc gia c...        9            5  \n",
       "..                                                ...      ...          ...  \n",
       "95  Ngày 21/2, thiếu tá Dương Xuân Đạt, Phó đội tr...        1            6  \n",
       "96  Khoảng 9h30, sau khi hàng chục công nhân có bi...        9            1  \n",
       "97  Trung tâm Dự báo Khí tượng Thủy văn quốc gia c...        9            5  \n",
       "98  Trong văn bản tham gia giải trình một số nội d...        1            7  \n",
       "99  Thông tin được ông Vũ Văn Khương, Giám đốc Côn...        9            1  \n",
       "\n",
       "[100 rows x 5 columns]"
      ]
     },
     "execution_count": 17,
     "metadata": {},
     "output_type": "execute_result"
    }
   ],
   "source": [
    "df[:100]\n"
   ]
  },
  {
   "cell_type": "markdown",
   "metadata": {},
   "source": [
    "For possible future work, I have found a couple of methodogies that suits the conducted topic. I will leave all the references in the end of the notebook.\n",
    "\n",
    "- News article clustering: https://github.com/parkervg/news-article-clustering/tree/master\n",
    "\n",
    "    In this work, the authors have further labeled the data based on the content of the news. This is a very interesting approach to understand the content of the news and to further understand the distribution of the news. \n",
    "    The pipeline is as follows:\n",
    "    \n",
    "    1. Data Cleaning and Analysis\n",
    "    2. Data Preprocessing: Customizing TF-IDF Vectorizer and combining NER task with tokenization to highlight the importance of occurrences such as persons or names.\n",
    "    3. Clustering: Using K-Means and HAC to cluster the news articles.\n",
    "    4. Evaluation: Using F1 and Silhouette Score to evaluate the performance of the clustering.\n",
    "\n",
    "- Prompt Engineering for Text Summarization / Topic Collection:\n",
    "\n",
    "- Encoding models like BERT (in this case, PhoBERT with py_vncorenlp for word segmentation or Electra for NER) for embedding the text and then using clustering algorithms to group the news articles. \n"
   ]
  },
  {
   "cell_type": "markdown",
   "metadata": {},
   "source": []
  },
  {
   "cell_type": "markdown",
   "metadata": {},
   "source": []
  }
 ],
 "metadata": {
  "kernelspec": {
   "display_name": ".venv",
   "language": "python",
   "name": "python3"
  },
  "language_info": {
   "codemirror_mode": {
    "name": "ipython",
    "version": 3
   },
   "file_extension": ".py",
   "mimetype": "text/x-python",
   "name": "python",
   "nbconvert_exporter": "python",
   "pygments_lexer": "ipython3",
   "version": "3.11.4"
  }
 },
 "nbformat": 4,
 "nbformat_minor": 2
}
